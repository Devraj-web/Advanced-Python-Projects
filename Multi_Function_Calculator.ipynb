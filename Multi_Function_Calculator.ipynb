{
  "nbformat": 4,
  "nbformat_minor": 0,
  "metadata": {
    "colab": {
      "provenance": [],
      "authorship_tag": "ABX9TyMVXW5LiKBqiM/zbL9BhutG",
      "include_colab_link": true
    },
    "kernelspec": {
      "name": "python3",
      "display_name": "Python 3"
    },
    "language_info": {
      "name": "python"
    }
  },
  "cells": [
    {
      "cell_type": "markdown",
      "metadata": {
        "id": "view-in-github",
        "colab_type": "text"
      },
      "source": [
        "<a href=\"https://colab.research.google.com/github/Devraj-web/Advanced-Python-Projects/blob/main/Multi_Function_Calculator.ipynb\" target=\"_parent\"><img src=\"https://colab.research.google.com/assets/colab-badge.svg\" alt=\"Open In Colab\"/></a>"
      ]
    },
    {
      "cell_type": "code",
      "execution_count": null,
      "metadata": {
        "id": "nST_80gE0y26"
      },
      "outputs": [],
      "source": [
        "# prompt: Build a Graphing Calculator\n",
        "\n",
        "import matplotlib.pyplot as plt\n",
        "import numpy as np\n",
        "\n",
        "def graphing_calculator():\n",
        "    \"\"\"\n",
        "    A simple graphing calculator using matplotlib.\n",
        "    \"\"\"\n",
        "\n",
        "    while True:\n",
        "        try:\n",
        "            equation = input(\"Enter an equation in terms of x (or type 'quit'): \")\n",
        "            if equation.lower() == 'quit':\n",
        "                break\n",
        "\n",
        "            x = np.linspace(-10, 10, 400)  # Adjust the range as needed\n",
        "\n",
        "            # Evaluate the equation using NumPy\n",
        "            try:\n",
        "                y = eval(equation) # Evaluate the equation string\n",
        "            except (NameError, SyntaxError):\n",
        "                print(\"Invalid equation. Please enter a valid equation in terms of x.\")\n",
        "                continue\n",
        "            except TypeError as e:  # Handle TypeError for invalid operations\n",
        "                print(\"TypeError:\", e)\n",
        "                print(\"Invalid equation or unsupported operation. Check your equation syntax.\")\n",
        "                continue\n",
        "\n",
        "\n",
        "            # Plot the graph\n",
        "            plt.plot(x, y)\n",
        "            plt.xlabel(\"x\")\n",
        "            plt.ylabel(\"y\")\n",
        "            plt.title(f\"Graph of {equation}\")\n",
        "            plt.grid(True)\n",
        "            plt.axhline(y=0, color='black', linewidth=0.5)  # Add x-axis line\n",
        "            plt.axvline(x=0, color='black', linewidth=0.5)  # Add y-axis line\n",
        "            plt.show()\n",
        "\n",
        "        except Exception as e:\n",
        "            print(f\"An error occurred: {e}\")\n",
        "\n",
        "if __name__ == \"__main__\":\n",
        "    graphing_calculator()"
      ]
    }
  ]
}
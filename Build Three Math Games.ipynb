{
  "nbformat": 4,
  "nbformat_minor": 0,
  "metadata": {
    "colab": {
      "provenance": [],
      "authorship_tag": "ABX9TyPT9I28w6iA8KWbdBNanqdL",
      "include_colab_link": true
    },
    "kernelspec": {
      "name": "python3",
      "display_name": "Python 3"
    },
    "language_info": {
      "name": "python"
    }
  },
  "cells": [
    {
      "cell_type": "markdown",
      "metadata": {
        "id": "view-in-github",
        "colab_type": "text"
      },
      "source": [
        "<a href=\"https://colab.research.google.com/github/Devraj-web/Advanced-Python-Projects/blob/main/Build%20Three%20Math%20Games.ipynb\" target=\"_parent\"><img src=\"https://colab.research.google.com/assets/colab-badge.svg\" alt=\"Open In Colab\"/></a>"
      ]
    },
    {
      "cell_type": "code",
      "execution_count": null,
      "metadata": {
        "id": "nST_80gE0y26"
      },
      "outputs": [],
      "source": [
        "# prompt: Build Three Math Games\n",
        "\n",
        "import random\n",
        "\n",
        "def play_addition_game():\n",
        "  \"\"\"Plays an addition game with the user.\"\"\"\n",
        "  num1 = random.randint(1, 20)\n",
        "  num2 = random.randint(1, 20)\n",
        "  answer = num1 + num2\n",
        "  user_answer = input(f\"What is {num1} + {num2}? \")\n",
        "  try:\n",
        "    user_answer = int(user_answer)\n",
        "    if user_answer == answer:\n",
        "      print(\"Correct!\")\n",
        "    else:\n",
        "      print(f\"Incorrect. The answer is {answer}\")\n",
        "  except ValueError:\n",
        "    print(\"Invalid input. Please enter a number.\")\n",
        "\n",
        "def play_subtraction_game():\n",
        "  \"\"\"Plays a subtraction game with the user.\"\"\"\n",
        "  num1 = random.randint(1, 20)\n",
        "  num2 = random.randint(1, num1)  # Ensure num2 is not greater than num1\n",
        "  answer = num1 - num2\n",
        "  user_answer = input(f\"What is {num1} - {num2}? \")\n",
        "  try:\n",
        "    user_answer = int(user_answer)\n",
        "    if user_answer == answer:\n",
        "      print(\"Correct!\")\n",
        "    else:\n",
        "      print(f\"Incorrect. The answer is {answer}\")\n",
        "  except ValueError:\n",
        "    print(\"Invalid input. Please enter a number.\")\n",
        "\n",
        "def play_multiplication_game():\n",
        "    \"\"\"Plays a multiplication game with the user.\"\"\"\n",
        "    num1 = random.randint(1, 12)\n",
        "    num2 = random.randint(1, 12)\n",
        "    answer = num1 * num2\n",
        "    user_answer = input(f\"What is {num1} * {num2}? \")\n",
        "    try:\n",
        "        user_answer = int(user_answer)\n",
        "        if user_answer == answer:\n",
        "            print(\"Correct!\")\n",
        "        else:\n",
        "            print(f\"Incorrect. The answer is {answer}\")\n",
        "    except ValueError:\n",
        "        print(\"Invalid input. Please enter a number.\")\n",
        "\n",
        "\n",
        "while True:\n",
        "  print(\"\\nChoose a math game:\")\n",
        "  print(\"1. Addition\")\n",
        "  print(\"2. Subtraction\")\n",
        "  print(\"3. Multiplication\")\n",
        "  print(\"4. Exit\")\n",
        "\n",
        "  choice = input(\"Enter your choice: \")\n",
        "\n",
        "  if choice == '1':\n",
        "    play_addition_game()\n",
        "  elif choice == '2':\n",
        "    play_subtraction_game()\n",
        "  elif choice == '3':\n",
        "    play_multiplication_game()\n",
        "  elif choice == '4':\n",
        "    print(\"Exiting...\")\n",
        "    break\n",
        "  else:\n",
        "    print(\"Invalid choice. Please try again.\")"
      ]
    }
  ]
}
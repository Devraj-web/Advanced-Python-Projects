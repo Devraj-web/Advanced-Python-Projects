{
  "nbformat": 4,
  "nbformat_minor": 0,
  "metadata": {
    "colab": {
      "provenance": [],
      "authorship_tag": "ABX9TyPR/Vy3WQNLLAVqpafpwa/O",
      "include_colab_link": true
    },
    "kernelspec": {
      "name": "python3",
      "display_name": "Python 3"
    },
    "language_info": {
      "name": "python"
    }
  },
  "cells": [
    {
      "cell_type": "markdown",
      "metadata": {
        "id": "view-in-github",
        "colab_type": "text"
      },
      "source": [
        "<a href=\"https://colab.research.google.com/github/Devraj-web/Advanced-Python-Projects/blob/main/Build%20a%20Data%20Graph%20Explorer.ipynb\" target=\"_parent\"><img src=\"https://colab.research.google.com/assets/colab-badge.svg\" alt=\"Open In Colab\"/></a>"
      ]
    },
    {
      "cell_type": "code",
      "execution_count": null,
      "metadata": {
        "id": "nST_80gE0y26"
      },
      "outputs": [],
      "source": [
        "# prompt: Build a Data Graph Explorer\n",
        "\n",
        "import pandas as pd\n",
        "import plotly.express as px\n",
        "\n",
        "def build_data_graph_explorer(data_path, x_col, y_col, color_col=None, title=\"Data Explorer\"):\n",
        "    \"\"\"\n",
        "    Builds an interactive data graph explorer using Plotly Express.\n",
        "\n",
        "    Args:\n",
        "      data_path: Path to the CSV file containing the data.\n",
        "      x_col: Name of the column to use for the x-axis.\n",
        "      y_col: Name of the column to use for the y-axis.\n",
        "      color_col: Name of the column to use for color encoding (optional).\n",
        "      title: Title of the graph (optional).\n",
        "\n",
        "    Returns:\n",
        "      A Plotly Express figure.\n",
        "    \"\"\"\n",
        "    try:\n",
        "        df = pd.read_csv(data_path)\n",
        "    except FileNotFoundError:\n",
        "        print(f\"Error: File not found at {data_path}\")\n",
        "        return None\n",
        "    except pd.errors.ParserError:\n",
        "        print(f\"Error: Could not parse the file at {data_path}\")\n",
        "        return None\n",
        "\n",
        "    if x_col not in df.columns or y_col not in df.columns:\n",
        "        print(f\"Error: Specified columns '{x_col}' or '{y_col}' not found in the dataframe.\")\n",
        "        return None\n",
        "\n",
        "    if color_col is not None and color_col not in df.columns:\n",
        "      print(f\"Warning: Specified color column '{color_col}' not found, ignoring color encoding.\")\n",
        "      color_col = None\n",
        "\n",
        "    fig = px.scatter(df, x=x_col, y=y_col, color=color_col, title=title,\n",
        "                     hover_data=df.columns) # Show all columns in hover info\n",
        "\n",
        "    fig.update_layout(\n",
        "        xaxis_title=x_col,\n",
        "        yaxis_title=y_col\n",
        "    )\n",
        "    return fig\n",
        "\n",
        "# Example Usage: Replace with your file and column names\n",
        "data_file = \"your_data.csv\"  # Replace with the actual path to your CSV file\n",
        "x_axis_column = \"column1\"    # Replace with the name of your x-axis column\n",
        "y_axis_column = \"column2\"    # Replace with the name of your y-axis column\n",
        "color_by_column = \"column3\"  # Optional: Replace with a column for color encoding\n",
        "\n",
        "\n",
        "fig = build_data_graph_explorer(data_file, x_axis_column, y_axis_column, color_by_column)\n",
        "\n",
        "if fig:\n",
        "  fig.show()"
      ]
    }
  ]
}
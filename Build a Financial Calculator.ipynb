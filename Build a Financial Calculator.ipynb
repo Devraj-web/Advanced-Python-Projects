{
  "nbformat": 4,
  "nbformat_minor": 0,
  "metadata": {
    "colab": {
      "provenance": [],
      "authorship_tag": "ABX9TyPZZor9LxEbQRGuadI2gBZ4",
      "include_colab_link": true
    },
    "kernelspec": {
      "name": "python3",
      "display_name": "Python 3"
    },
    "language_info": {
      "name": "python"
    }
  },
  "cells": [
    {
      "cell_type": "markdown",
      "metadata": {
        "id": "view-in-github",
        "colab_type": "text"
      },
      "source": [
        "<a href=\"https://colab.research.google.com/github/Devraj-web/Advanced-Python-Projects/blob/main/Build%20a%20Financial%20Calculator.ipynb\" target=\"_parent\"><img src=\"https://colab.research.google.com/assets/colab-badge.svg\" alt=\"Open In Colab\"/></a>"
      ]
    },
    {
      "cell_type": "code",
      "execution_count": null,
      "metadata": {
        "id": "nST_80gE0y26"
      },
      "outputs": [],
      "source": [
        "# prompt: Build a Financial Calculator\n",
        "\n",
        "import math\n",
        "\n",
        "def calculate_future_value(present_value, interest_rate, time_periods):\n",
        "    \"\"\"Calculates the future value of an investment.\n",
        "\n",
        "    Args:\n",
        "        present_value: The initial investment amount.\n",
        "        interest_rate: The annual interest rate (as a decimal).\n",
        "        time_periods: The number of years.\n",
        "\n",
        "    Returns:\n",
        "        The future value of the investment.\n",
        "    \"\"\"\n",
        "    future_value = present_value * (1 + interest_rate) ** time_periods\n",
        "    return future_value\n",
        "\n",
        "def calculate_present_value(future_value, interest_rate, time_periods):\n",
        "    \"\"\"Calculates the present value of a future sum of money.\n",
        "\n",
        "    Args:\n",
        "        future_value: The future value of the investment.\n",
        "        interest_rate: The annual interest rate (as a decimal).\n",
        "        time_periods: The number of years.\n",
        "\n",
        "    Returns:\n",
        "        The present value of the investment.\n",
        "    \"\"\"\n",
        "    present_value = future_value / (1 + interest_rate) ** time_periods\n",
        "    return present_value\n",
        "\n",
        "def calculate_loan_payment(principal, interest_rate, loan_term):\n",
        "    \"\"\"Calculates the monthly payment for a loan.\n",
        "\n",
        "    Args:\n",
        "        principal: The initial loan amount.\n",
        "        interest_rate: The annual interest rate (as a decimal).\n",
        "        loan_term: The loan term in months.\n",
        "\n",
        "    Returns:\n",
        "        The monthly loan payment.\n",
        "    \"\"\"\n",
        "    monthly_interest_rate = interest_rate / 12\n",
        "    payment = principal * (monthly_interest_rate * (1 + monthly_interest_rate) ** loan_term) / ((1 + monthly_interest_rate) ** loan_term - 1)\n",
        "    return payment\n",
        "\n",
        "\n",
        "def main():\n",
        "    print(\"Welcome to the Financial Calculator!\")\n",
        "    while True:\n",
        "        print(\"\\nSelect an option:\")\n",
        "        print(\"1. Calculate Future Value\")\n",
        "        print(\"2. Calculate Present Value\")\n",
        "        print(\"3. Calculate Loan Payment\")\n",
        "        print(\"4. Exit\")\n",
        "\n",
        "        choice = input(\"Enter your choice: \")\n",
        "\n",
        "        if choice == '1':\n",
        "          present_value = float(input(\"Enter present value: \"))\n",
        "          interest_rate = float(input(\"Enter annual interest rate (as a decimal): \"))\n",
        "          time_periods = int(input(\"Enter number of years: \"))\n",
        "          fv = calculate_future_value(present_value, interest_rate, time_periods)\n",
        "          print(f\"Future value: {fv:.2f}\")\n",
        "        elif choice == '2':\n",
        "          future_value = float(input(\"Enter future value: \"))\n",
        "          interest_rate = float(input(\"Enter annual interest rate (as a decimal): \"))\n",
        "          time_periods = int(input(\"Enter number of years: \"))\n",
        "          pv = calculate_present_value(future_value, interest_rate, time_periods)\n",
        "          print(f\"Present value: {pv:.2f}\")\n",
        "        elif choice == '3':\n",
        "          principal = float(input(\"Enter loan principal: \"))\n",
        "          interest_rate = float(input(\"Enter annual interest rate (as a decimal): \"))\n",
        "          loan_term = int(input(\"Enter loan term in months: \"))\n",
        "          payment = calculate_loan_payment(principal, interest_rate, loan_term)\n",
        "          print(f\"Monthly payment: {payment:.2f}\")\n",
        "        elif choice == '4':\n",
        "          break\n",
        "        else:\n",
        "          print(\"Invalid choice. Please try again.\")\n",
        "\n",
        "\n",
        "if __name__ == \"__main__\":\n",
        "    main()"
      ]
    }
  ]
}